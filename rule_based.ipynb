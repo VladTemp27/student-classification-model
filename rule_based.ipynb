{
 "cells": [
  {
   "cell_type": "code",
   "execution_count": null,
   "metadata": {
    "vscode": {
     "languageId": "plaintext"
    }
   },
   "outputs": [],
   "source": [
    "import pandas as pd\n",
    "import numpy as np\n",
    "import seaborn as sns\n",
    "import matplotlib.pyplot as plt\n",
    "from sklearn.model_selection import train_test_split\n",
    "from sklearn.preprocessing import LabelEncoder\n",
    "from sklearn.metrics import classification_report, confusion_matrix, accuracy_score\n",
    "\n",
    "# Load and preprocess the dataset\n",
    "df = pd.read_csv(\"graded_exams.csv\")\n",
    "df = df.dropna()\n",
    "\n",
    "# Shuffle the dataset\n",
    "shuffled_data = df.sample(frac=1, random_state=42).reset_index(drop=True)"
   ]
  },
  {
   "cell_type": "code",
   "execution_count": null,
   "metadata": {
    "vscode": {
     "languageId": "plaintext"
    }
   },
   "outputs": [],
   "source": [
    "# Encode categorical variables\n",
    "label_encoders = {}\n",
    "categorical_columns = ['gender', 'race/ethnicity', 'parental level of education', 'lunch', 'test preparation course']\n",
    "for column in categorical_columns:\n",
    "    label_encoders[column] = LabelEncoder()\n",
    "    shuffled_data[column] = label_encoders[column].fit_transform(shuffled_data[column])\n",
    "\n",
    "# Define rule-based grading function with categorical conditions\n",
    "def assign_grade(score, lunch, test_prep, parent_edu):\n",
    "    # Small grade boost for students who had a standard lunch\n",
    "    grade_boost = 1 if lunch == 1 else 0  # Assuming \"1\" means standard lunch\n",
    "\n",
    "    # Adjust failure threshold if the student completed test prep\n",
    "    failure_threshold = 71 if test_prep == 1 else 73  # Lower passing threshold if test prep was taken\n",
    "\n",
    "    # Parental education adjustment (Example: If parent has 'some high school', score needs +1 to pass)\n",
    "    parent_edu_adjustment = 1 if parent_edu == 0 else 0  # Assuming '0' is \"some high school\"\n",
    "\n",
    "    adjusted_score = score + grade_boost + parent_edu_adjustment\n",
    "\n",
    "    if adjusted_score >= 97:\n",
    "        return \"Excellent\"\n",
    "    elif adjusted_score >= 93:\n",
    "        return \"Superior\"\n",
    "    elif adjusted_score >= 89:\n",
    "        return \"Good\"\n",
    "    elif adjusted_score >= 85:\n",
    "        return \"Above Average\"\n",
    "    elif adjusted_score >= 81:\n",
    "        return \"Average\"\n",
    "    elif adjusted_score >= 77:\n",
    "        return \"Below Average\"\n",
    "    elif adjusted_score >= failure_threshold:\n",
    "        return \"Passing\"\n",
    "    else:\n",
    "        return \"Failure\""
   ]
  }
 ],
 "metadata": {
  "language_info": {
   "name": "python"
  }
 },
 "nbformat": 4,
 "nbformat_minor": 2
}
